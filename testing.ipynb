{
 "cells": [
  {
   "cell_type": "code",
   "execution_count": 5,
   "metadata": {},
   "outputs": [],
   "source": [
    "import tensorflow as tf\n",
    "import ctc_utils\n",
    "import cv2\n",
    "import numpy as np\n",
    "import tensorflow.compat.v1 as tf_v1\n",
    "import numpy as np\n",
    "from primus import CTC_PriMuS\n",
    "\n",
    "tf.compat.v1.disable_eager_execution()\n"
   ]
  },
  {
   "cell_type": "code",
   "execution_count": 6,
   "metadata": {},
   "outputs": [],
   "source": [
    "SEMANTIC = ''\n",
    "\n",
    "model = \"Models/semantic_model.meta\"\n",
    "voc_file = \"Data/vocabulary_semantic.txt\"\n",
    "\n",
    "tf_v1.reset_default_graph()\n",
    "sess = tf_v1.InteractiveSession()\n"
   ]
  },
  {
   "cell_type": "code",
   "execution_count": 7,
   "metadata": {},
   "outputs": [],
   "source": [
    "# Read the dictionary\n",
    "dict_file = open(voc_file,'r')\n",
    "dict_list = dict_file.read().splitlines()\n",
    "int2word = dict()\n",
    "for word in dict_list:\n",
    "    word_idx = len(int2word)\n",
    "    int2word[word_idx] = word\n",
    "dict_file.close()"
   ]
  },
  {
   "cell_type": "code",
   "execution_count": 8,
   "metadata": {},
   "outputs": [
    {
     "name": "stdout",
     "output_type": "stream",
     "text": [
      "WARNING:tensorflow:The saved meta_graph is possibly from an older release:\n",
      "'model_variables' collection should be of type 'byte_list', but instead is of type 'node_list'.\n",
      "INFO:tensorflow:Restoring parameters from Models/semantic_model\n"
     ]
    }
   ],
   "source": [
    "# Restore weights\n",
    "saver = tf_v1.train.import_meta_graph(model)\n",
    "saver.restore(sess,model[:-5])\n",
    "\n",
    "graph = tf_v1.get_default_graph()\n",
    "\n",
    "input = graph.get_tensor_by_name(\"model_input:0\")\n",
    "seq_len = graph.get_tensor_by_name(\"seq_lengths:0\")\n",
    "rnn_keep_prob = graph.get_tensor_by_name(\"keep_prob:0\")\n",
    "height_tensor = graph.get_tensor_by_name(\"input_height:0\")\n",
    "width_reduction_tensor = graph.get_tensor_by_name(\"width_reduction:0\")\n",
    "logits = tf_v1.get_collection(\"logits\")[0]\n",
    "\n",
    "# Constants that are saved inside the model itself\n",
    "WIDTH_REDUCTION, HEIGHT = sess.run([width_reduction_tensor, height_tensor])\n",
    "\n",
    "decoded, _ = tf_v1.nn.ctc_greedy_decoder(logits, seq_len)\n"
   ]
  },
  {
   "cell_type": "code",
   "execution_count": 9,
   "metadata": {},
   "outputs": [],
   "source": [
    "test_file = open(\"Data/test.txt\",'r')\n",
    "test_list = test_file.read().splitlines()\n",
    "test_file.close()"
   ]
  },
  {
   "cell_type": "code",
   "execution_count": 12,
   "metadata": {},
   "outputs": [
    {
     "name": "stdout",
     "output_type": "stream",
     "text": [
      "100\n"
     ]
    }
   ],
   "source": [
    "# Taking only N number of testing data\n",
    "\n",
    "import random\n",
    "\n",
    "random.shuffle(test_list)\n",
    "test_n_list = test_list[0:100]\n",
    "print(len(test_n_list))"
   ]
  },
  {
   "cell_type": "code",
   "execution_count": 30,
   "metadata": {},
   "outputs": [
    {
     "name": "stdout",
     "output_type": "stream",
     "text": [
      "Accuracy for 1 100 data = 97.79\n",
      "Accuracy for 2 100 data = 98.67\n",
      "Accuracy for 3 100 data = 98.8\n",
      "Accuracy for 4 100 data = 98.86\n",
      "Accuracy for 5 100 data = 98.45\n",
      "Accuracy for 6 100 data = 98.64\n",
      "Accuracy for 7 100 data = 98.41\n",
      "Accuracy for 8 100 data = 98.69\n",
      "Accuracy for 9 100 data = 98.88\n",
      "Accuracy for 10 100 data = 97.89\n",
      "Accuracy for 11 100 data = 98.73\n",
      "Accuracy for 12 100 data = 99.18\n",
      "Accuracy for 13 100 data = 97.65\n",
      "Accuracy for 14 100 data = 97.87\n",
      "Accuracy for 15 100 data = 97.59\n",
      "Accuracy for 16 100 data = 98.66\n",
      "Accuracy for 17 100 data = 98.68\n",
      "Accuracy for 18 100 data = 99.18\n",
      "Accuracy for 19 100 data = 97.97\n",
      "Accuracy for 20 100 data = 98.53\n",
      "Accuracy for 21 100 data = 98.53\n",
      "Accuracy for 22 100 data = 98.82\n",
      "Accuracy for 23 100 data = 98.85\n",
      "Accuracy for 24 100 data = 98.66\n",
      "Accuracy for 25 100 data = 98.58\n",
      "Accuracy for 26 100 data = 98.05\n",
      "Accuracy for 27 100 data = 98.6\n",
      "Accuracy for 28 100 data = 98.02\n",
      "Accuracy for 29 100 data = 98.77\n",
      "Accuracy for 30 100 data = 98.62\n",
      "Accuracy for 31 100 data = 98.78\n",
      "Accuracy for 32 100 data = 97.8\n",
      "Accuracy for 33 100 data = 97.9\n",
      "Accuracy for 34 100 data = 98.74\n",
      "Accuracy for 35 100 data = 98.62\n",
      "Accuracy for 36 100 data = 98.89\n",
      "Accuracy for 37 100 data = 98.34\n",
      "Accuracy for 38 100 data = 98.68\n",
      "Accuracy for 39 100 data = 98.68\n",
      "Accuracy for 40 100 data = 98.9\n",
      "Accuracy for 41 100 data = 99.15\n",
      "Accuracy for 42 100 data = 98.64\n",
      "Accuracy for 43 100 data = 98.53\n",
      "Accuracy for 44 100 data = 98.61\n",
      "Accuracy for 45 100 data = 99.03\n",
      "Accuracy for 46 100 data = 98.78\n",
      "Accuracy for 47 100 data = 98.49\n",
      "Accuracy for 48 100 data = 99.08\n",
      "Accuracy for 49 100 data = 97.9\n",
      "Accuracy for 50 100 data = 97.66\n",
      "Accuracy for 51 100 data = 97.75\n",
      "Accuracy for 52 100 data = 98.14\n",
      "Accuracy for 53 100 data = 98.73\n",
      "Accuracy for 54 100 data = 98.96\n",
      "Accuracy for 55 100 data = 98.72\n",
      "Accuracy for 56 100 data = 98.52\n",
      "Accuracy for 57 100 data = 98.2\n",
      "Accuracy for 58 100 data = 98.27\n",
      "Accuracy for 59 100 data = 98.63\n",
      "Accuracy for 60 100 data = 98.28\n",
      "Accuracy for 61 100 data = 97.99\n",
      "Accuracy for 62 100 data = 98.53\n",
      "Accuracy for 63 100 data = 98.59\n",
      "Accuracy for 64 100 data = 98.55\n",
      "Accuracy for 65 100 data = 98.93\n",
      "Accuracy for 66 100 data = 98.63\n",
      "Accuracy for 67 100 data = 98.92\n",
      "Accuracy for 68 100 data = 97.97\n",
      "Accuracy for 69 100 data = 97.54\n",
      "Accuracy for 70 100 data = 97.04\n",
      "Accuracy for 71 100 data = 98.03\n",
      "Accuracy for 72 100 data = 98.52\n",
      "Accuracy for 73 100 data = 98.34\n",
      "Accuracy for 74 100 data = 98.27\n",
      "Accuracy for 75 100 data = 99.13\n",
      "Accuracy for 76 100 data = 98.6\n",
      "Accuracy for 77 100 data = 98.28\n",
      "Accuracy for 78 100 data = 98.24\n",
      "Accuracy for 79 100 data = 98.05\n",
      "Accuracy for 80 100 data = 98.33\n",
      "Accuracy for 81 100 data = 99.03\n",
      "Accuracy for 82 100 data = 98.48\n",
      "Accuracy for 83 100 data = 98.94\n",
      "Accuracy for 84 100 data = 98.38\n",
      "Accuracy for 85 100 data = 98.97\n",
      "Accuracy for 86 100 data = 98.71\n",
      "Accuracy for 87 100 data = 98.62\n",
      "Accuracy for 88 100 data = 98.74\n",
      "Accuracy for 89 100 data = 98.7\n"
     ]
    }
   ],
   "source": [
    "# Getting the test data's ground truth\n",
    "from collections import Counter\n",
    "import math\n",
    "\n",
    "data_dirpath = \"D:/3.Projects/Major Project/OMR/downloaded/primusCalvoRizoAppliedSciences2018/extractedOneDir\"\n",
    "\n",
    "sample_no = []\n",
    "acc = []\n",
    "i = 0\n",
    "accuracy_list = []\n",
    "\n",
    "def counter_cosine_similarity(c1, c2):\n",
    "        terms = set(c1).union(c2)\n",
    "        dotprod = sum(c1.get(k, 0) * c2.get(k, 0) for k in terms)\n",
    "        magA = math.sqrt(sum(c1.get(k, 0)**2 for k in terms))\n",
    "        magB = math.sqrt(sum(c2.get(k, 0)**2 for k in terms))\n",
    "        return dotprod / (magA * magB)\n",
    "\n",
    "for test_filepath in test_list:\n",
    "\n",
    "    i += 1\n",
    "\n",
    "    # Making a full filepath\n",
    "    fullpath = data_dirpath + '/' + test_filepath + '/' + test_filepath\n",
    "    image = cv2.imread(fullpath + '.png', 0)  # Grayscale is assumed!\n",
    "    gt_filepath = fullpath + '.semantic'\n",
    "\n",
    "    # Converting GT to list of symbols\n",
    "    gt_file = open(gt_filepath, 'r')\n",
    "    sample_gt_plain = gt_file.readline().rstrip().split(ctc_utils.word_separator())\n",
    "\n",
    "    #predictions\n",
    "    image = ctc_utils.resize(image, HEIGHT)\n",
    "    image = ctc_utils.normalize(image)\n",
    "    image = np.asarray(image).reshape(1,image.shape[0],-1,1)\n",
    "\n",
    "    seq_lengths = [ image.shape[2] / WIDTH_REDUCTION ]\n",
    "\n",
    "    prediction = sess.run(decoded,\n",
    "                      feed_dict={\n",
    "                          input: image,\n",
    "                          seq_len: seq_lengths,\n",
    "                          rnn_keep_prob: 1.0,\n",
    "                      })\n",
    "\n",
    "    str_predictions = ctc_utils.sparse_tensor_to_strs(prediction)\n",
    "\n",
    "    SEMANTIC = []\n",
    "    for w in str_predictions[0]:\n",
    "        SEMANTIC.append(int2word[w])\n",
    "\n",
    "    counterA = Counter(sample_gt_plain)\n",
    "    counterB = Counter(SEMANTIC)\n",
    "\n",
    "    accuracy_list.append(counter_cosine_similarity(counterA, counterB) * 100)\n",
    "\n",
    "    if (i%100 == 0):\n",
    "        avg_accu = sum(accuracy_list)/100\n",
    "        accuracy_list.clear()\n",
    "        \n",
    "        sample_no.append(i)\n",
    "        acc.append(round(avg_accu, 2))\n",
    "\n",
    "        print(\"Accuracy for\", int(i/100), \"100 data =\",  round(avg_accu, 2))"
   ]
  },
  {
   "cell_type": "code",
   "execution_count": 31,
   "metadata": {},
   "outputs": [
    {
     "data": {
      "image/png": "[encoded data removed]",
      "text/plain": [
       "<Figure size 576x576 with 1 Axes>"
      ]
     },
     "metadata": {
      "needs_background": "light"
     },
     "output_type": "display_data"
    }
   ],
   "source": [
    "#plotting the accuracy graph\n",
    "\n",
    "import matplotlib.pyplot as plt\n",
    "\n",
    "plt.figure(figsize = (8,8))\n",
    "plt.plot(sample_no, acc)\n",
    "plt.xlabel(\"Samples in Testing Data\")\n",
    "plt.ylabel(\"Testing Accuracy\")\n",
    "plt.ylim(70, 100)\n",
    "plt.title(\"Testing Data Accuracy\")\n",
    "plt.show()\n"
   ]
  },
  {
   "cell_type": "code",
   "execution_count": 33,
   "metadata": {},
   "outputs": [
    {
     "name": "stdout",
     "output_type": "stream",
     "text": [
      "98.48393258426967\n"
     ]
    }
   ],
   "source": [
    "average_acc = sum(acc)/89\n",
    "print(average_acc)"
   ]
  }
 ],
 "metadata": {
  "interpreter": {
   "hash": "9697e2a1051c7095ecd8665cc1eb639e4adf4411b9f4f8b8117fd1a8cfeac915"
  },
  "kernelspec": {
   "display_name": "Python 3.8.7 64-bit",
   "language": "python",
   "name": "python3"
  },
  "language_info": {
   "codemirror_mode": {
    "name": "ipython",
    "version": 3
   },
   "file_extension": ".py",
   "mimetype": "text/x-python",
   "name": "python",
   "nbconvert_exporter": "python",
   "pygments_lexer": "ipython3",
   "version": "3.8.7"
  },
  "orig_nbformat": 4
 },
 "nbformat": 4,
 "nbformat_minor": 2
}
